{
 "cells": [
  {
   "cell_type": "markdown",
   "metadata": {},
   "source": [
    "\n",
    "The ongoing COVID-19 pandemic caused by the spread of the SARS-COV-2 virus has forced many governments to impose strict confinement conditions to control infections, at great social and economic cost. In many countries, these non-pharmalogical interventions have managed to contain and mitigate the first wave of the pandemic, and are now relaxing the social-distancing measures, while trying to control for potential new outbreaks as well as the arrival of a potential second wave.\n",
    "\n",
    "Due to the role of asyptomatic carriers as well as pre-symptomatic infectiousness [citations], symptoms-based diagnosis of COVID-19 is not viable and the WHO recommends all suspected cases to be tested [https://apps.who.int/iris/bitstream/handle/10665/331509/WHO-COVID-19-lab_testing-2020.1-eng.pdf] via Polymerase Chain Reaction (PCR) assays, usually Real-Time Reverse-Transcription PCR. Due to the compatibility of COVID-19 symptoms with other respiratory diseases, during the the first wave of the COVID-19 pandemic in Europe, stretching from January to June 2020, many countries had to run several tens of thousands tests per day. Even after aggressively ramping up their testing capacity, the ability to test all suspected cases as well as at-risk populations like healthcare workers has been limited by shortages in the supply of swabs, test kits or extraction reagents [https://qz.com/1822596/all-the-coronavirus-test-materials-in-short-supply-in-the-us/] [https://www.politico.eu/article/europe-testing-question-coronavirus-crisis/]. In countries like Spain, which performed a relatively large number of PCR diagnosis tests per capita (about 3M as of mid-June 2020 [https://datos.civio.es/dataset/pcr-coronavirus-covid19-espana-comunidades-autonomas/\n",
    "]) \"only\" 250k cases were confirmed, while a serological study has estimated COVID-19 prevalence to 5.2% via serological studies (at June 3rd [https://www.mscbs.gob.es/ciudadanos/ene-covid/docs/ESTUDIO_ENE-COVID19_SEGUNDA_RONDA_INFORME_PRELIMINAR.pdf]), corresponding to about 2.4M cases, demonstrating that most cases went untested. \n",
    "\n",
    "## Grouped/pool testing: an approach to significantly increase testing capacity\n",
    "\n",
    "There is an alternative approach to individual COVID-19 testing with the potential to increase testing capacity by up to a factor of 8, that has recently attracted much attention, both from National and International Agencies [WHO], [CDC], [ECDC] as well as clinical and research institutions []. In its simplest form, the group testing approach involves mixing samples from several individuals (a pool) and testing for the presence of viral RNA in the pooled samples, as opposed to performing a test separately for each individual. In a low-prevalence disease like COVID-19, most pools consist of uninfected individuals and hence one can discard all individuals in non-infected pools with only one test. See [blog post] for a brief introduction to the methodology. Pooled testing for RT-PCR diagnosis of COVID-19 has been already succesfully used in a clinical setting in Germany [], Nebraska [], Israel [] as well as extensively explored in reasearch [].\n",
    "\n",
    "While this pooling approach doesn't mitigate the problem of some of the supply shortages, it can greatly reduce the bottlenecks due to hardware limitations, at the expense of additional labor in the preparation of specimens and analysis of the results. In the rest of this article, we will review the different technologies currently known, their limitations and some of the research questions that remain to be explored.\n",
    "\n",
    "\n",
    "\n",
    "\n",
    "\n",
    "\n",
    "\\[1\\] Asymptomatic and pre-symptomatic\n",
    "\\[2\\] https://apps.who.int/iris/bitstream/handle/10665/331509/WHO-COVID-19-lab_testing-2020.1-eng.pdf\n",
    "\n",
    "https://www.euro.who.int/en/health-topics/health-emergencies/coronavirus-covid-19/news/news/2020/4/whoeurope-publishes-considerations-for-gradual-easing-of-covid-19-measures\n",
    "\n",
    "https://datos.civio.es/dataset/pcr-coronavirus-covid19-espana-comunidades-autonomas/\n",
    "\n",
    "During the first of the pandemic, many countries have "
   ]
  }
 ],
 "metadata": {
  "kernelspec": {
   "display_name": "ml_in_prod",
   "language": "python",
   "name": "ml_in_prod"
  },
  "language_info": {
   "codemirror_mode": {
    "name": "ipython",
    "version": 3
   },
   "file_extension": ".py",
   "mimetype": "text/x-python",
   "name": "python",
   "nbconvert_exporter": "python",
   "pygments_lexer": "ipython3",
   "version": "3.7.6"
  }
 },
 "nbformat": 4,
 "nbformat_minor": 4
}
